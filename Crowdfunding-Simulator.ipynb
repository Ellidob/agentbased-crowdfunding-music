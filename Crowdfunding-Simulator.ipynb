{
 "cells": [
  {
   "cell_type": "code",
   "execution_count": 1,
   "metadata": {
    "collapsed": false
   },
   "outputs": [],
   "source": [
    "import numpy as np\n",
    "import matplotlib.pyplot as plt\n",
    "import random\n",
    "# test"
   ]
  },
  {
   "cell_type": "markdown",
   "metadata": {},
   "source": [
    "# Classes\n",
    "\n",
    "First we create a class for musicians and for consumers, to use later."
   ]
  },
  {
   "cell_type": "code",
   "execution_count": 2,
   "metadata": {
    "collapsed": true
   },
   "outputs": [],
   "source": [
    "# Class musician\n",
    "\n",
    "class Musician:\n",
    "    def __init__(self, a, b, c, d, e, f):\n",
    "        #Making music related:\n",
    "        self.minimum_wage = a\n",
    "        self.financial_capital = b\n",
    "        self.lambda_ROPS = c\n",
    "        self.genres = d\n",
    "        self.amount_of_songs_tm = e\n",
    "        \n",
    "        #Network connections\n",
    "        self.friends = f\n",
    "        \n",
    "    def make_music (self):\n",
    "        self.amount_of_songs_tm = np.random.poisson(self.lambda_ROPS) * min(1,(self.financial_capital/self.minimum_wage))\n",
    "        self.amount_of_songs_tm = int(self.amount_of_songs_tm)\n",
    "        \n",
    "    # ADD MORE FUNCTIONS\n",
    "        "
   ]
  },
  {
   "cell_type": "code",
   "execution_count": 3,
   "metadata": {
    "collapsed": false
   },
   "outputs": [],
   "source": [
    "# Class user\n",
    "\n",
    "class User:\n",
    "    def __init__(self, a, b, c, d, e):\n",
    "        \n",
    "        #Tipping related:\n",
    "        self.chance_to_tip = a\n",
    "        self.mean_amount_of_tip = b\n",
    "        self.SD_amount_of_tip = c\n",
    "        \n",
    "        #Listening activity related:\n",
    "        self.favorite_genres = d\n",
    "        self.listening_to_artists = e\n",
    "        \n",
    "    # ADD MORE FUNCTIONS\n",
    "       \n",
    "    def tip (self):\n",
    "        for artist in listening_to_artists:\n",
    "            if np.random.uniform(0,1) < self.chance_to_tip:\n",
    "                artist.financial_capital += np.random.normal(self.mean_amount_of_tip, self.SD_amount_of_tip)\n",
    "       \n",
    "    #def find_music():\n",
    "        "
   ]
  },
  {
   "cell_type": "markdown",
   "metadata": {},
   "source": [
    "# Create the world\n",
    "\n",
    "Before we can make a simulation, we need to create a world of consumers and musicians"
   ]
  },
  {
   "cell_type": "code",
   "execution_count": 4,
   "metadata": {
    "collapsed": false
   },
   "outputs": [
    {
     "ename": "SyntaxError",
     "evalue": "invalid syntax (<ipython-input-4-b18513d90a49>, line 12)",
     "output_type": "error",
     "traceback": [
      "\u001b[1;36m  File \u001b[1;32m\"<ipython-input-4-b18513d90a49>\"\u001b[1;36m, line \u001b[1;32m12\u001b[0m\n\u001b[1;33m    average_songs_pm = 4\u001b[0m\n\u001b[1;37m                   ^\u001b[0m\n\u001b[1;31mSyntaxError\u001b[0m\u001b[1;31m:\u001b[0m invalid syntax\n"
     ]
    }
   ],
   "source": [
    "# Create the first musicians\n",
    "\n",
    "# We make a list of all connections\n",
    "musicians = []\n",
    "connections = []\n",
    "\n",
    "# We make 1000 starting musicians\n",
    "# One timestep is a month\n",
    "genres = [\"Jazz\", \"Rock\", \"Blues\", \"Dubstep\", \"Bebop\", \"Pop\", \"K-pop\", \"Soul\", \"Punk\"]\n",
    "start_musicians = 100\n",
    "minimum_wage = (2*(10**4)/12\n",
    "average_songs_pm = 4\n",
    "starting_songs = 4\n",
    "starting_money = 0\n",
    "starting_friends = []\n",
    "\n",
    "# Make our first two musicians\n",
    "initial_genre = random.choice(genres)\n",
    "m1 = Musician(minimum_wage, starting_money, average_songs_pm, [initial_genre, random.choice(genres)], \n",
    "              starting_songs, starting_friends[:])\n",
    "musicians.append(m1)\n",
    "connections.append(m1)\n",
    "\n",
    "m2 = Musician(minimum_wage, starting_money, average_songs_pm, [initial_genre, random.choice(genres)],\n",
    "              starting_songs, starting_friends[:])\n",
    "musicians.append(m2)\n",
    "connections.append(m2)\n",
    "\n",
    "musicians[0].friends.append(musicians[1])\n",
    "musicians[1].friends.append(musicians[0])\n",
    "\n",
    "for i in range(2,start_musicians):\n",
    "    # Create a single musician\n",
    "    # We decide who the new musician is connected to\n",
    "    old_musician = random.choice(connections)\n",
    "    first_genre = random.choice(old_musician.genres)\n",
    "    new_musician = Musician(minimum_wage, starting_money, average_songs_pm, \n",
    "                            [first_genre, random.choice(genres)],\n",
    "                            starting_songs, [old_musician])\n",
    "    musicians.append(new_musician)\n",
    "    \n",
    "    # Put the new connection in the network\n",
    "    old_musician.friends.append(new_musician)\n",
    "    connections.append(new_musician)\n",
    "    connections.append(old_musician)"
   ]
  },
  {
   "cell_type": "code",
   "execution_count": null,
   "metadata": {
    "collapsed": false
   },
   "outputs": [],
   "source": [
    "# Create the users\n",
    "# This number does not change, but they will move from musician to musician\n",
    "# They listen to 10 musicians at once\n",
    "\n",
    "# We make 100,000 users\n",
    "total_users = 10**5\n",
    "users = []\n",
    "average_tip = 3\n",
    "number_favorite_genres = 3\n",
    "number_listening_to_artists = 10\n",
    "\n",
    "for i in range(0, total_users):\n",
    "    chance_to_tip = np.random.uniform(0.2, 0.8)\n",
    "    mean_amount_of_tip = np.abs(np.random.normal(average_tip, 1))\n",
    "    SD_amount_of_tip = 1\n",
    "    favorite_genres = random.sample(set(genres), number_favorite_genres)\n",
    "    \n",
    "    # Decide some initial artists\n",
    "    listening_to_artists = []\n",
    "    while len(listening_to_artists) < number_listening_to_artists:\n",
    "        potential_artist = random.choice(musicians)\n",
    "        if not (set(favorite_genres).isdisjoint(potential_artist.genres)):\n",
    "            listening_to_artists.append(potential_artist)\n",
    "    \n",
    "    new_user = User(chance_to_tip, mean_amount_of_tip, SD_amount_of_tip\n",
    "                    , favorite_genres, listening_to_artists)\n",
    "    users.append(new_user)"
   ]
  },
  {
   "cell_type": "markdown",
   "metadata": {},
   "source": [
    "# Update the world\n",
    "\n",
    "In our simulation, we update the world $T$ times, where $T$ is the number of timesteps in our simulation"
   ]
  },
  {
   "cell_type": "code",
   "execution_count": null,
   "metadata": {
    "collapsed": true
   },
   "outputs": [],
   "source": [
    "def tip_artists(user):\n",
    "    \n",
    "    total_music_to_tip = 0\n",
    "    for artist in user.listening_to_artists:\n",
    "        # Find the total songs\n",
    "        total_music_to_tip = total_music_to_tip + artist.amount_of_songs_tm\n",
    "        \n",
    "    # Tip every artist according to the number of songs they have\n",
    "    # Determine how much the user tips in total\n",
    "    total_tip = np.random.normal(user.mean_amount_of_tip, user.SD_amount_of_tip)\n",
    "    for artist in user.listening_to_artists:\n",
    "        artist.financial_capital = artist.financial_capital + totaltip * (artist.amount_of_songs_tm/total_music_to_tip)\n",
    "    \n",
    "    # We leave out the chance to tip for now, but we can introduce it if the results are not realistic\n",
    "    \n",
    "def find_new_artists(user):\n",
    "    # Replace the 10 artists with 10 new ones, which are connected to the old ones\n",
    "    # Maybe give a chance to keep listening\n",
    "    for artist in user.listening_to_artists:\n",
    "        # Does he stay?\n",
    "        # Who replaces him?\n",
    "        # Replace him\n",
    "    listening_to_artists_nt = []\n",
    "        while len(listening_to_artists) < number_listening_to_artists:\n",
    "            potential_artist = random.choice(musicians)\n",
    "            if (set(favorite_genres).isdisjoint(potential_artist.genres)):\n",
    "                listening_to_artists.append(potential_artist)        \n",
    "        \n",
    "    \n",
    "def live_or_die(musician, musicians):\n",
    "    # Determine if they made enough to live\n",
    "    # Change number of songs next month permanently to zero\n",
    "    \n",
    "    return # True or False"
   ]
  },
  {
   "cell_type": "code",
   "execution_count": null,
   "metadata": {
    "collapsed": false
   },
   "outputs": [],
   "source": [
    "# Some for-loop\n",
    "# Each $T$ is a turn, need to tell the program what each class has to do in every turn\n",
    "# In every turn the musicians need to, \"share\" the songs with users (as many as possible), receive/add tip to thier \n",
    "# fin.capital if offered, \"make\" new music with finances and add it too amount_of_songs_tm (think we need to rename the unite though...)\n",
    "# In every turn the users need to, listen to 10 artists at least, offer a tip to certain artists... \n",
    "# (do I need to specify how many songs a user listens too, or is that unnecessary....?)\n",
    "\n",
    "# users update is listen to 10 artists, make them tip the artists proportionately to the amount of songs that artist has, \n",
    "# then make them forget their old artists and start again for next month \n",
    "# musicians update is check how much money they made, tell them to die yes or no, then make new music if they are still alive (GoT :P)\n",
    "# and finally wipe money of the month clean so they can start again from 0\n",
    "\n",
    "# define the amount of turns\n",
    "t = 10\n",
    "# Make users listen to songs\n",
    "songs_transfer = listening_to_artists # dont think this makes sense by might be impotant or something\n",
    "\n",
    "# Update the world t times\n",
    "for i in range (0, t):\n",
    "    # Update the users\n",
    "    \n",
    "    for user in users:\n",
    "        tip_artists(user)\n",
    "        find_new_artists(user)\n",
    "        \n",
    "    # Update the musicians\n",
    "    for musician in musicians:\n",
    "        alive = live_or_die(musician, musicians)\n",
    "        if alive:\n",
    "            # Determine a new number of songs for next month\n",
    "            # they do something more\n",
    "            \n",
    "    # Store some information the is interesting later?\n",
    "\n",
    "print(\"All done updating the world :)\")"
   ]
  },
  {
   "cell_type": "markdown",
   "metadata": {},
   "source": [
    "# Displaying the results\n",
    "\n",
    "Once we have finished making our simulation, we need to display the results. This can be done in multiple ways:\n",
    "\n",
    "* Plot of the number of musicians\n",
    "* Visualize the network of musicians\n",
    "* Plot network properties"
   ]
  },
  {
   "cell_type": "code",
   "execution_count": null,
   "metadata": {
    "collapsed": true
   },
   "outputs": [],
   "source": [
    "# Show that it is scalefree\n",
    "for musician in musicians:\n",
    "    print(len(musician.friends))\n",
    "    \n",
    "# Show how long artists with a certain starting money survive on average\n",
    "\n",
    "# Show some trends over time"
   ]
  }
 ],
 "metadata": {
  "anaconda-cloud": {},
  "kernelspec": {
   "display_name": "Python 3",
   "language": "python",
   "name": "python3"
  },
  "language_info": {
   "codemirror_mode": {
    "name": "ipython",
    "version": 3
   },
   "file_extension": ".py",
   "mimetype": "text/x-python",
   "name": "python",
   "nbconvert_exporter": "python",
   "pygments_lexer": "ipython3",
   "version": "3.5.1"
  }
 },
 "nbformat": 4,
 "nbformat_minor": 1
}
